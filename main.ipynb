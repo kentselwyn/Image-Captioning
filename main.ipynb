{
 "cells": [
  {
   "cell_type": "code",
   "execution_count": null,
   "metadata": {},
   "outputs": [],
   "source": [
    "import os\n",
    "import cv2\n",
    "import uuid\n",
    "import pickle\n",
    "import pandas as pd\n",
    "import matplotlib.pyplot as plt\n",
    "\n",
    "from PIL import Image\n",
    "from pathlib import Path\n",
    "from deepface import DeepFace\n",
    "\n",
    "from lib.config import config\n",
    "from lib.face_database import FaceDatabase\n",
    "from lib.face_recognition import FaceRecognition"
   ]
  },
  {
   "cell_type": "markdown",
   "metadata": {},
   "source": [
    "# Face Recognition Module\n",
    "Powered by DeepFace (https://github.com/serengil/deepface/tree/master/deepface)"
   ]
  },
  {
   "cell_type": "markdown",
   "metadata": {},
   "source": [
    "# 1. Initialize modules\n",
    "\n",
    "Initialize `FaceRecognition` and `FaceDatabase`"
   ]
  },
  {
   "cell_type": "code",
   "execution_count": null,
   "metadata": {},
   "outputs": [],
   "source": [
    "face_database = FaceDatabase(**config.face_database)\n",
    "face_recognition = FaceRecognition(**config.face_recognition)"
   ]
  },
  {
   "cell_type": "markdown",
   "metadata": {},
   "source": [
    "## 1. Obtaining face images with labels"
   ]
  },
  {
   "cell_type": "code",
   "execution_count": null,
   "metadata": {},
   "outputs": [],
   "source": [
    "# 1. Get image (possibly with no or multiple faces)\n",
    "im = cv2.imread('./1.jpg')\n",
    "\n",
    "# 2. Detect faces\n",
    "detected = face_recognition.get_faces(im)\n",
    "\n",
    "# 3. For each face in the image, query label\n",
    "labels = []\n",
    "for it, individual in enumerate(detected):\n",
    "    plt.figure(it, [5, 5]); plt.imshow(individual['face']); plt.axis('off')\n",
    "    labels.append(input())"
   ]
  },
  {
   "cell_type": "markdown",
   "metadata": {},
   "source": [
    "## 2. Inserting face images and labels into database"
   ]
  },
  {
   "cell_type": "code",
   "execution_count": null,
   "metadata": {},
   "outputs": [],
   "source": [
    "for individual, label in zip(detected, labels):\n",
    "    face_database.store(individual['face'], label)\n",
    "    individual['face'] = cv2.resize(individual['face'], (224,224))"
   ]
  },
  {
   "cell_type": "markdown",
   "metadata": {},
   "source": [
    "## 3. Searching a match for new faces"
   ]
  },
  {
   "cell_type": "code",
   "execution_count": null,
   "metadata": {},
   "outputs": [],
   "source": [
    "# 1. Get query image (possibly with no or multiple faces)\n",
    "query = cv2.imread('./4.jpg').astype('uint8')\n",
    "\n",
    "# 2. Find matches for each face\n",
    "detected = face_recognition.find_faces(query, face_database)\n",
    "\n",
    "# 3. Show matches\n",
    "query = cv2.cvtColor(query, cv2.COLOR_BGR2RGB)\n",
    "for label, bounding_box in detected:\n",
    "    x, y, w, h = bounding_box\n",
    "    cv2.rectangle(query, (x, y), (x+w, y+h), (0,0,255), 2)\n",
    "    print(f'Detected: {label} (at position ({x}, {y}))')\n",
    "\n",
    "plt.figure(1, [5, 5]); plt.title('Result'); plt.imshow(query)"
   ]
  },
  {
   "cell_type": "code",
   "execution_count": null,
   "metadata": {},
   "outputs": [],
   "source": [
    "face_database.face_id"
   ]
  }
 ],
 "metadata": {
  "kernelspec": {
   "display_name": "base",
   "language": "python",
   "name": "python3"
  },
  "language_info": {
   "codemirror_mode": {
    "name": "ipython",
    "version": 3
   },
   "file_extension": ".py",
   "mimetype": "text/x-python",
   "name": "python",
   "nbconvert_exporter": "python",
   "pygments_lexer": "ipython3",
   "version": "3.9.18"
  }
 },
 "nbformat": 4,
 "nbformat_minor": 2
}
